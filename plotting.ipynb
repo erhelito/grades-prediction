{
 "cells": [
  {
   "cell_type": "markdown",
   "metadata": {},
   "source": [
    "# Importing dependencies"
   ]
  },
  {
   "cell_type": "code",
   "execution_count": 11,
   "metadata": {},
   "outputs": [],
   "source": [
    "import pandas\n",
    "import matplotlib.pyplot as plt"
   ]
  },
  {
   "cell_type": "markdown",
   "metadata": {},
   "source": [
    "# Read the csv"
   ]
  },
  {
   "cell_type": "code",
   "execution_count": 12,
   "metadata": {},
   "outputs": [
    {
     "name": "stdout",
     "output_type": "stream",
     "text": [
      "   Subject  Grade  Estimated_grade  Estimated_grade_by_bot  \\\n",
      "0     engl   13.0             18.0                   16.25   \n",
      "1     engl   16.0             17.0                   15.75   \n",
      "2       fr   18.0             18.0                   18.50   \n",
      "3    maths   18.5             19.0                   18.50   \n",
      "4    maths   19.5             19.0                   18.50   \n",
      "5     phys   15.0             17.0                   16.00   \n",
      "6     hist   14.0             11.0                   12.50   \n",
      "7      NSI   20.0             17.0                   18.50   \n",
      "8    maths   16.0             17.0                   17.50   \n",
      "9    ESbio   14.0             16.0                   15.00   \n",
      "10      fr   20.0             17.0                   18.00   \n",
      "11     spa   17.0             13.0                   15.00   \n",
      "12    engl    NaN             16.0                   15.25   \n",
      "13    phys   19.0             18.0                   17.50   \n",
      "14     spa    NaN             16.0                   16.50   \n",
      "15    euro    NaN             17.0                   17.00   \n",
      "\n",
      "    Estimated_grade_by_bot_high  Estimated_grade_by_bot_low  \n",
      "0                     16.833333                   15.666667  \n",
      "1                     16.166667                   15.333333  \n",
      "2                     18.666667                   18.333333  \n",
      "3                     18.666667                   18.333333  \n",
      "4                     18.666667                   18.333333  \n",
      "5                     16.333333                   15.666667  \n",
      "6                     13.000000                   12.000000  \n",
      "7                     19.000000                   18.000000  \n",
      "8                     17.666667                   17.333333  \n",
      "9                     15.333333                   14.666667  \n",
      "10                    18.333333                   17.666667  \n",
      "11                    15.666667                   14.333333  \n",
      "12                    15.500000                   15.000000  \n",
      "13                    17.666667                   17.333333  \n",
      "14                    16.666667                   16.333333  \n",
      "15                          NaN                         NaN  \n"
     ]
    }
   ],
   "source": [
    "reader = pandas.read_csv(r\"grades.csv\")\n",
    "print(reader)"
   ]
  },
  {
   "cell_type": "markdown",
   "metadata": {},
   "source": [
    "# Plotting the perfect grade's completion, and draw points for all grades"
   ]
  },
  {
   "cell_type": "code",
   "execution_count": 13,
   "metadata": {},
   "outputs": [
    {
     "data": {
      "image/png": "[encoded data removed]",
      "text/plain": [
       "<Figure size 432x288 with 1 Axes>"
      ]
     },
     "metadata": {
      "needs_background": "light"
     },
     "output_type": "display_data"
    }
   ],
   "source": [
    "plt.plot([0, 20], [0, 20])\n",
    "\n",
    "for line in range(len(reader)):\n",
    "    grade = reader.Grade[line]\n",
    "\n",
    "    estimated_grade_list = []\n",
    "\n",
    "    estimated_grade = reader.Estimated_grade[line]\n",
    "\n",
    "    estimated_grade_by_bot = reader.Estimated_grade_by_bot[line]\n",
    "    estimated_grade_high = reader.Estimated_grade_by_bot_high[line]\n",
    "    estimated_grade_low = reader.Estimated_grade_by_bot_low[line]\n",
    "\n",
    "    estimated_grade_list.append(estimated_grade)\n",
    "    estimated_grade_list.append(estimated_grade_high)\n",
    "    estimated_grade_list.append(estimated_grade_low)\n",
    "\n",
    "    estimated_grade_list.sort()\n",
    "\n",
    "    plt.scatter(grade, estimated_grade, color=\"violet\")\n",
    "\n",
    "    plt.scatter(grade, estimated_grade_by_bot, color=\"orange\")\n",
    "    plt.scatter(grade, estimated_grade_high, color=\"red\")\n",
    "    plt.scatter(grade, estimated_grade_low, color=\"green\")\n",
    "\n",
    "    plt.plot([grade, grade], [estimated_grade_list[0], estimated_grade_list[-1]], color=\"grey\")\n",
    "\n",
    "    plt.plot([])\n",
    "\n",
    "plt.show()"
   ]
  }
 ],
 "metadata": {
  "interpreter": {
   "hash": "c80b580279a7bbfadcadc382c4c2a2d93e5b93d1655dd85e615331a6eae7b4ac"
  },
  "kernelspec": {
   "display_name": "Python 3.7.9 64-bit (windows store)",
   "name": "python3"
  },
  "language_info": {
   "codemirror_mode": {
    "name": "ipython",
    "version": 3
   },
   "file_extension": ".py",
   "mimetype": "text/x-python",
   "name": "python",
   "nbconvert_exporter": "python",
   "pygments_lexer": "ipython3",
   "version": "3.7.9"
  },
  "orig_nbformat": 4
 },
 "nbformat": 4,
 "nbformat_minor": 2
}
