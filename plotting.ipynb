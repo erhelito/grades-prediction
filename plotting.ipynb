{
 "cells": [
  {
   "cell_type": "markdown",
   "metadata": {},
   "source": [
    "# Importing dependencies"
   ]
  },
  {
   "cell_type": "code",
   "execution_count": 13,
   "metadata": {},
   "outputs": [],
   "source": [
    "import pandas\n",
    "import matplotlib.pyplot as plt"
   ]
  },
  {
   "cell_type": "markdown",
   "metadata": {},
   "source": [
    "# Read the csv"
   ]
  },
  {
   "cell_type": "code",
   "execution_count": 14,
   "metadata": {},
   "outputs": [
    {
     "name": "stdout",
     "output_type": "stream",
     "text": [
      "   Subject  Grade  Estimated_grade  Estimated_grade_by_bot  \\\n",
      "0     engl   13.0               18               16.250000   \n",
      "1     engl   16.0               17               15.750000   \n",
      "2       fr   18.0               18               18.500000   \n",
      "3    maths   18.5               19               18.500000   \n",
      "4    maths   19.5               19               18.500000   \n",
      "5     phys   15.0               17               16.000000   \n",
      "6     hist   14.0               11               12.500000   \n",
      "7      NSI   20.0               17               18.500000   \n",
      "8    maths   16.0               17               17.500000   \n",
      "9    ESbio   14.0               16               15.000000   \n",
      "10      fr   20.0               17               18.000000   \n",
      "11     spa   17.0               13               13.000000   \n",
      "12    engl    NaN               16               15.250000   \n",
      "13    phys   19.0               18               17.500000   \n",
      "14     spa    NaN               16               16.500000   \n",
      "15    euro   16.0               17               17.000000   \n",
      "16   maths   19.5               18               18.187500   \n",
      "17     NSI   18.5               18               19.000000   \n",
      "18    hist    NaN                8               11.000000   \n",
      "19      fr   18.0               18               18.500000   \n",
      "20   sport   15.5               16               16.000000   \n",
      "21      fr    NaN               19               18.833333   \n",
      "22     NSI   20.0               20               19.750000   \n",
      "\n",
      "    Estimated_grade_by_bot_high  Estimated_grade_by_bot_low  \n",
      "0                     16.833333                   15.666667  \n",
      "1                     16.166667                   15.333333  \n",
      "2                     18.666667                   18.333333  \n",
      "3                     18.666667                   18.333333  \n",
      "4                     18.666667                   18.333333  \n",
      "5                     16.333333                   15.666667  \n",
      "6                     13.000000                   12.000000  \n",
      "7                     19.000000                   18.000000  \n",
      "8                     17.666667                   17.333333  \n",
      "9                     15.333333                   14.666667  \n",
      "10                    18.333333                   17.666667  \n",
      "11                          NaN                         NaN  \n",
      "12                    15.500000                   15.000000  \n",
      "13                    17.666667                   17.333333  \n",
      "14                    16.666667                   16.333333  \n",
      "15                          NaN                         NaN  \n",
      "16                    18.250000                   18.125000  \n",
      "17                    19.333333                   18.666667  \n",
      "18                    12.000000                   10.000000  \n",
      "19                    18.666667                   18.333333  \n",
      "20                          NaN                         NaN  \n",
      "21                    18.888889                   18.777778  \n",
      "22                    19.833333                   19.666667  \n"
     ]
    }
   ],
   "source": [
    "reader = pandas.read_csv(r\"grades.csv\")\n",
    "print(reader)"
   ]
  },
  {
   "cell_type": "markdown",
   "metadata": {},
   "source": [
    "# Plotting the perfect grade's completion, and draw points for all grades"
   ]
  },
  {
   "cell_type": "code",
   "execution_count": 15,
   "metadata": {},
   "outputs": [
    {
     "data": {
      "image/png": "[encoded data removed]",
      "text/plain": [
       "<Figure size 432x288 with 1 Axes>"
      ]
     },
     "metadata": {
      "needs_background": "light"
     },
     "output_type": "display_data"
    }
   ],
   "source": [
    "plt.plot([0, 20], [0, 20])\n",
    "\n",
    "for line in range(len(reader)):\n",
    "    grade = reader.Grade[line]\n",
    "\n",
    "    estimated_grade_list = []\n",
    "\n",
    "    estimated_grade = reader.Estimated_grade[line]\n",
    "\n",
    "    estimated_grade_by_bot = reader.Estimated_grade_by_bot[line]\n",
    "    estimated_grade_high = reader.Estimated_grade_by_bot_high[line]\n",
    "    estimated_grade_low = reader.Estimated_grade_by_bot_low[line]\n",
    "\n",
    "    estimated_grade_list.append(estimated_grade)\n",
    "    estimated_grade_list.append(estimated_grade_high)\n",
    "    estimated_grade_list.append(estimated_grade_low)\n",
    "\n",
    "    estimated_grade_list.sort()\n",
    "\n",
    "    # plot estimated grades, estimated grades by bot (high and low), and actual grade\n",
    "    plt.scatter(grade, estimated_grade, color=\"violet\")\n",
    "\n",
    "    plt.scatter(grade, estimated_grade_by_bot, color=\"orange\")\n",
    "    plt.scatter(grade, estimated_grade_high, color=\"red\")\n",
    "    plt.scatter(grade, estimated_grade_low, color=\"green\")\n",
    "\n",
    "    plt.plot([grade, grade], [estimated_grade_list[0], estimated_grade_list[-1]], color=\"grey\")\n",
    "\n",
    "# plot legend with invisible points\n",
    "plt.scatter([], [], color=\"violet\", label=\"Estimated grade\")\n",
    "plt.scatter([], [], color=\"orange\", label=\"Estimated grade by bot\")\n",
    "plt.scatter([], [], color=\"red\", label=\"Estimated grade by bot high\")\n",
    "plt.scatter([], [], color=\"green\", label=\"Estimated grade by bot low\")\n",
    "\n",
    "plt.legend()\n",
    "plt.show()"
   ]
  }
 ],
 "metadata": {
  "interpreter": {
   "hash": "916dbcbb3f70747c44a77c7bcd40155683ae19c65e1c03b4aa3499c5328201f1"
  },
  "kernelspec": {
   "display_name": "Python 3.8.10 64-bit",
   "name": "python3"
  },
  "language_info": {
   "codemirror_mode": {
    "name": "ipython",
    "version": 3
   },
   "file_extension": ".py",
   "mimetype": "text/x-python",
   "name": "python",
   "nbconvert_exporter": "python",
   "pygments_lexer": "ipython3",
   "version": "3.7.9"
  },
  "orig_nbformat": 4
 },
 "nbformat": 4,
 "nbformat_minor": 2
}
