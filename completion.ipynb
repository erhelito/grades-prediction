{
 "cells": [
  {
   "cell_type": "markdown",
   "metadata": {},
   "source": [
    "# Importing dependencies"
   ]
  },
  {
   "cell_type": "code",
   "execution_count": 45,
   "metadata": {},
   "outputs": [],
   "source": [
    "import pandas\n",
    "from statistics import mean"
   ]
  },
  {
   "cell_type": "markdown",
   "metadata": {},
   "source": [
    "# Read the csv in \"reader\""
   ]
  },
  {
   "cell_type": "code",
   "execution_count": 46,
   "metadata": {},
   "outputs": [
    {
     "name": "stdout",
     "output_type": "stream",
     "text": [
      "   Subject Grade  Estimated_grade Estimated_grade_by_bot\n",
      "0     engl    13               18                      x\n",
      "1     engl    16               17                      x\n",
      "2       fr    18               18                      x\n",
      "3    maths  18.5               19                      x\n",
      "4    maths  19.5               19                      x\n",
      "5     phys    15               17                      x\n",
      "6     hist    14               11                      x\n",
      "7      NSI    20               17                      x\n",
      "8    maths    16               17                      x\n",
      "9    ESbio    14               16                      x\n",
      "10      fr    20               17                      x\n",
      "11     spa     x               13                      x\n",
      "12      fr     x               17                      x\n"
     ]
    }
   ],
   "source": [
    "reader = pandas.read_csv(r\"grades.csv\")\n",
    "print(reader)"
   ]
  },
  {
   "cell_type": "markdown",
   "metadata": {},
   "source": [
    "# Function getting the subject according to the index"
   ]
  },
  {
   "cell_type": "code",
   "execution_count": 47,
   "metadata": {},
   "outputs": [],
   "source": [
    "def subject_with_index(index):\n",
    "    subject = reader.Subject[index]\n",
    "    return subject"
   ]
  },
  {
   "cell_type": "markdown",
   "metadata": {},
   "source": [
    "# Function getting grades for subject"
   ]
  },
  {
   "cell_type": "code",
   "execution_count": 48,
   "metadata": {},
   "outputs": [],
   "source": [
    "def get_grades_for_subject(subject):\n",
    "    grades_index = []\n",
    "\n",
    "    index = 0\n",
    "    for subject_label in reader.Subject :\n",
    "        if subject_label == subject :\n",
    "            grades_index.append(index)\n",
    "\n",
    "        index += 1\n",
    "\n",
    "    grades = reader.Grade\n",
    "    list_of_grades = []\n",
    "    \n",
    "    for index in grades_index :\n",
    "        list_of_grades.append(grades[index])\n",
    "\n",
    "    list_of_grades_integer = []\n",
    "\n",
    "    for grade in list_of_grades :\n",
    "        try :\n",
    "            list_of_grades_integer.append(float(grade))\n",
    "\n",
    "        except :\n",
    "            pass\n",
    "\n",
    "    return list_of_grades_integer"
   ]
  },
  {
   "cell_type": "markdown",
   "metadata": {},
   "source": [
    "# Function getting human estimation"
   ]
  },
  {
   "cell_type": "code",
   "execution_count": 49,
   "metadata": {},
   "outputs": [],
   "source": [
    "def get_human_estimation(index):\n",
    "    human_estimation = reader.Estimated_grade[index]\n",
    "    human_estimation = int(human_estimation)\n",
    "    return human_estimation"
   ]
  },
  {
   "cell_type": "markdown",
   "metadata": {},
   "source": [
    "# For each estimated grades by bot, get non-estimated grades, get the subject, and get the mean of the subject"
   ]
  },
  {
   "cell_type": "code",
   "execution_count": 50,
   "metadata": {},
   "outputs": [
    {
     "name": "stdout",
     "output_type": "stream",
     "text": [
      "subject to complete : engl\n",
      "list of grades : [13.0, 16.0]\n",
      "average : 14.5\n",
      "estimation : 18\n",
      "\n",
      "subject to complete : engl\n",
      "list of grades : [13.0, 16.0]\n",
      "average : 14.5\n",
      "estimation : 17\n",
      "\n",
      "subject to complete : fr\n",
      "list of grades : [18.0, 20.0]\n",
      "average : 19.0\n",
      "estimation : 18\n",
      "\n",
      "subject to complete : maths\n",
      "list of grades : [18.5, 19.5, 16.0]\n",
      "average : 18.0\n",
      "estimation : 19\n",
      "\n",
      "subject to complete : maths\n",
      "list of grades : [18.5, 19.5, 16.0]\n",
      "average : 18.0\n",
      "estimation : 19\n",
      "\n",
      "subject to complete : phys\n",
      "list of grades : [15.0]\n",
      "average : 15.0\n",
      "estimation : 17\n",
      "\n",
      "subject to complete : hist\n",
      "list of grades : [14.0]\n",
      "average : 14.0\n",
      "estimation : 11\n",
      "\n",
      "subject to complete : NSI\n",
      "list of grades : [20.0]\n",
      "average : 20.0\n",
      "estimation : 17\n",
      "\n",
      "subject to complete : maths\n",
      "list of grades : [18.5, 19.5, 16.0]\n",
      "average : 18.0\n",
      "estimation : 17\n",
      "\n",
      "subject to complete : ESbio\n",
      "list of grades : [14.0]\n",
      "average : 14.0\n",
      "estimation : 16\n",
      "\n",
      "subject to complete : fr\n",
      "list of grades : [18.0, 20.0]\n",
      "average : 19.0\n",
      "estimation : 17\n",
      "\n",
      "subject to complete : spa\n",
      "list of grades : []\n",
      "There is no grades\n",
      "average : None\n",
      "estimation : 13\n",
      "\n",
      "subject to complete : fr\n",
      "list of grades : [18.0, 20.0]\n",
      "average : 19.0\n",
      "estimation : 17\n",
      "\n"
     ]
    }
   ],
   "source": [
    "index = 0\n",
    "for grade in reader.Estimated_grade_by_bot :\n",
    "    if grade == \"x\":\n",
    "        subject = subject_with_index(index)\n",
    "        print(f\"subject to complete : {subject}\")\n",
    "\n",
    "        list_of_grades = get_grades_for_subject(subject)\n",
    "        print(f\"list of grades : {list_of_grades}\")\n",
    "\n",
    "        average = None\n",
    "        \n",
    "        try :\n",
    "            average = mean(list_of_grades)\n",
    "\n",
    "        except :\n",
    "            print(\"There is no grades\")\n",
    "\n",
    "        print(f\"average : {average}\")\n",
    "\n",
    "\n",
    "        human_estimation = get_human_estimation(index)\n",
    "        print(f\"estimation : {human_estimation}\\n\")\n",
    "            \n",
    "    index += 1\n"
   ]
  }
 ],
 "metadata": {
  "interpreter": {
   "hash": "916dbcbb3f70747c44a77c7bcd40155683ae19c65e1c03b4aa3499c5328201f1"
  },
  "kernelspec": {
   "display_name": "Python 3.8.10 64-bit",
   "name": "python3"
  },
  "language_info": {
   "codemirror_mode": {
    "name": "ipython",
    "version": 3
   },
   "file_extension": ".py",
   "mimetype": "text/x-python",
   "name": "python",
   "nbconvert_exporter": "python",
   "pygments_lexer": "ipython3",
   "version": "3.8.10"
  },
  "orig_nbformat": 4
 },
 "nbformat": 4,
 "nbformat_minor": 2
}
