{
 "cells": [
  {
   "cell_type": "markdown",
   "metadata": {},
   "source": [
    "# Importing dependencies"
   ]
  },
  {
   "cell_type": "code",
   "execution_count": 29,
   "metadata": {},
   "outputs": [],
   "source": [
    "import pandas\n",
    "from statistics import mean"
   ]
  },
  {
   "cell_type": "markdown",
   "metadata": {},
   "source": [
    "# Read the csv in \"reader\""
   ]
  },
  {
   "cell_type": "code",
   "execution_count": 30,
   "metadata": {},
   "outputs": [
    {
     "name": "stdout",
     "output_type": "stream",
     "text": [
      "   Subject  Grade  Estimated_grade  Estimated_grade_by_bot  \\\n",
      "0     engl   13.0             18.0                   16.25   \n",
      "1     engl   16.0             17.0                   15.75   \n",
      "2       fr   18.0             18.0                   18.50   \n",
      "3    maths   18.5             19.0                   18.50   \n",
      "4    maths   19.5             19.0                   18.50   \n",
      "5     phys   15.0             17.0                   16.00   \n",
      "6     hist   14.0             11.0                   12.50   \n",
      "7      NSI   20.0             17.0                   18.50   \n",
      "8    maths   16.0             17.0                   17.50   \n",
      "9    ESbio   14.0             16.0                   15.00   \n",
      "10      fr   20.0             17.0                   18.00   \n",
      "11     spa    NaN             13.0                   13.00   \n",
      "12    engl    NaN             18.0                     NaN   \n",
      "\n",
      "    Estimated_grade_by_bot_high  Estimated_grade_by_bot_low  \n",
      "0                     16.833333                   15.666667  \n",
      "1                     16.166667                   15.333333  \n",
      "2                     18.666667                   18.333333  \n",
      "3                     18.666667                   18.333333  \n",
      "4                     18.666667                   18.333333  \n",
      "5                     16.333333                   15.666667  \n",
      "6                     13.000000                   12.000000  \n",
      "7                     19.000000                   18.000000  \n",
      "8                     17.666667                   17.333333  \n",
      "9                     15.333333                   14.666667  \n",
      "10                    18.333333                   17.666667  \n",
      "11                          NaN                         NaN  \n",
      "12                          NaN                         NaN  \n"
     ]
    }
   ],
   "source": [
    "reader = pandas.read_csv(r\"grades.csv\")\n",
    "print(reader)"
   ]
  },
  {
   "cell_type": "markdown",
   "metadata": {},
   "source": [
    "# Function getting the subject according to the index"
   ]
  },
  {
   "cell_type": "code",
   "execution_count": 31,
   "metadata": {},
   "outputs": [],
   "source": [
    "def subject_with_index(index):\n",
    "    subject = reader.Subject[index]\n",
    "    return subject"
   ]
  },
  {
   "cell_type": "markdown",
   "metadata": {},
   "source": [
    "# Function getting grades for subject"
   ]
  },
  {
   "cell_type": "code",
   "execution_count": 32,
   "metadata": {},
   "outputs": [],
   "source": [
    "def get_grades_for_subject(subject):\n",
    "    grades_index = []\n",
    "\n",
    "    index = 0\n",
    "    for subject_label in reader.Subject :\n",
    "        if subject_label == subject :\n",
    "            grades_index.append(index)\n",
    "\n",
    "        index += 1\n",
    "\n",
    "    grades = reader.Grade\n",
    "    list_of_grades = []\n",
    "    \n",
    "    for index in grades_index :\n",
    "        list_of_grades.append(grades[index])\n",
    "\n",
    "    list_of_grades_integer = []\n",
    "\n",
    "    for grade in list_of_grades :\n",
    "        try :\n",
    "            if str(grade) != \"nan\" :\n",
    "                list_of_grades_integer.append(float(grade))\n",
    "\n",
    "        except :\n",
    "            pass\n",
    "\n",
    "    return list_of_grades_integer"
   ]
  },
  {
   "cell_type": "markdown",
   "metadata": {},
   "source": [
    "# Function getting human estimation"
   ]
  },
  {
   "cell_type": "code",
   "execution_count": 33,
   "metadata": {},
   "outputs": [],
   "source": [
    "def get_human_estimation(index):\n",
    "    human_estimation = reader.Estimated_grade[index]\n",
    "    human_estimation = int(human_estimation)\n",
    "    return human_estimation"
   ]
  },
  {
   "cell_type": "markdown",
   "metadata": {},
   "source": [
    "# For each non-estimated grades (by bot), get the subject, the mean of the subject and the human estimation"
   ]
  },
  {
   "cell_type": "code",
   "execution_count": 34,
   "metadata": {},
   "outputs": [
    {
     "name": "stdout",
     "output_type": "stream",
     "text": [
      "subject to complete : engl\n",
      "list of grades : [13.0, 16.0]\n",
      "average : 14.5\n",
      "estimation : 18\n",
      "Low estimation : 15.666666666666666\n",
      "Middle estimation : 16.25\n",
      "High estimation : 16.833333333333332\n",
      "\n",
      "\n"
     ]
    },
    {
     "name": "stderr",
     "output_type": "stream",
     "text": [
      "C:\\Users\\Erhelito\\AppData\\Local\\Packages\\PythonSoftwareFoundation.Python.3.7_qbz5n2kfra8p0\\LocalCache\\local-packages\\Python37\\site-packages\\ipykernel_launcher.py:54: SettingWithCopyWarning: \n",
      "A value is trying to be set on a copy of a slice from a DataFrame\n",
      "\n",
      "See the caveats in the documentation: https://pandas.pydata.org/pandas-docs/stable/user_guide/indexing.html#returning-a-view-versus-a-copy\n",
      "C:\\Users\\Erhelito\\AppData\\Local\\Packages\\PythonSoftwareFoundation.Python.3.7_qbz5n2kfra8p0\\LocalCache\\local-packages\\Python37\\site-packages\\ipykernel_launcher.py:55: SettingWithCopyWarning: \n",
      "A value is trying to be set on a copy of a slice from a DataFrame\n",
      "\n",
      "See the caveats in the documentation: https://pandas.pydata.org/pandas-docs/stable/user_guide/indexing.html#returning-a-view-versus-a-copy\n",
      "C:\\Users\\Erhelito\\AppData\\Local\\Packages\\PythonSoftwareFoundation.Python.3.7_qbz5n2kfra8p0\\LocalCache\\local-packages\\Python37\\site-packages\\ipykernel_launcher.py:56: SettingWithCopyWarning: \n",
      "A value is trying to be set on a copy of a slice from a DataFrame\n",
      "\n",
      "See the caveats in the documentation: https://pandas.pydata.org/pandas-docs/stable/user_guide/indexing.html#returning-a-view-versus-a-copy\n"
     ]
    }
   ],
   "source": [
    "index = 0\n",
    "for grade in reader.Estimated_grade_by_bot :\n",
    "    if str(grade) == \"nan\":\n",
    "        subject = subject_with_index(index)\n",
    "        print(f\"subject to complete : {subject}\")\n",
    "\n",
    "        list_of_grades = get_grades_for_subject(subject)\n",
    "        print(f\"list of grades : {list_of_grades}\")\n",
    "\n",
    "        average = None\n",
    "        \n",
    "        try :\n",
    "            average = mean(list_of_grades)\n",
    "\n",
    "        except :\n",
    "            print(\"There is no grades\")\n",
    "\n",
    "        print(f\"average : {average}\")\n",
    "\n",
    "\n",
    "        human_estimation = get_human_estimation(index)\n",
    "        print(f\"estimation : {human_estimation}\")\n",
    "\n",
    "        estimations_list = []\n",
    "\n",
    "        if average != None :\n",
    "            estimation1 = ((human_estimation *2)+ average)/3\n",
    "            estimation2 = (human_estimation + average)/2\n",
    "            estimation3 = (human_estimation + (average *2))/3\n",
    "\n",
    "            estimations_list.append(estimation1)\n",
    "            estimations_list.append(estimation2)\n",
    "            estimations_list.append(estimation3)\n",
    "\n",
    "        else :\n",
    "            estimation1 = \"NaN\"\n",
    "            estimation2 = human_estimation\n",
    "            estimation3 = \"NaN\"\n",
    "\n",
    "            estimations_list.append(estimation2)\n",
    "\n",
    "        estimations_list.sort()\n",
    "\n",
    "        if len(estimations_list) == 1 :\n",
    "            print(f\"Estimation : {estimations_list[0]}\")\n",
    "\n",
    "            reader.Estimated_grade_by_bot[index] = estimations_list[0]\n",
    "\n",
    "        else :\n",
    "            print(f\"Low estimation : {estimations_list[0]}\")\n",
    "            print(f\"Middle estimation : {estimations_list[1]}\")\n",
    "            print(f\"High estimation : {estimations_list[2]}\")\n",
    "\n",
    "            reader.Estimated_grade_by_bot_low[index] = estimations_list[0]\n",
    "            reader.Estimated_grade_by_bot[index] = estimations_list[1]\n",
    "            reader.Estimated_grade_by_bot_high[index] = estimations_list[2]\n",
    "\n",
    "        print(\"\\n\")\n",
    "\n",
    "    index += 1\n"
   ]
  },
  {
   "cell_type": "code",
   "execution_count": 35,
   "metadata": {},
   "outputs": [],
   "source": [
    "reader.to_csv(\"grades.csv\", index=False)"
   ]
  }
 ],
 "metadata": {
  "interpreter": {
   "hash": "c80b580279a7bbfadcadc382c4c2a2d93e5b93d1655dd85e615331a6eae7b4ac"
  },
  "kernelspec": {
   "display_name": "Python 3.7.9 64-bit (windows store)",
   "name": "python3"
  },
  "language_info": {
   "codemirror_mode": {
    "name": "ipython",
    "version": 3
   },
   "file_extension": ".py",
   "mimetype": "text/x-python",
   "name": "python",
   "nbconvert_exporter": "python",
   "pygments_lexer": "ipython3",
   "version": "3.7.9"
  },
  "orig_nbformat": 4
 },
 "nbformat": 4,
 "nbformat_minor": 2
}
