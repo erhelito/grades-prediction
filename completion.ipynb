{
 "cells": [
  {
   "cell_type": "code",
   "execution_count": 14,
   "metadata": {},
   "outputs": [],
   "source": [
    "import csv"
   ]
  },
  {
   "cell_type": "code",
   "execution_count": 15,
   "metadata": {},
   "outputs": [],
   "source": [
    "estimated_grades_column = []\n",
    "subjects_list = []"
   ]
  },
  {
   "cell_type": "code",
   "execution_count": 16,
   "metadata": {},
   "outputs": [
    {
     "name": "stdout",
     "output_type": "stream",
     "text": [
      "<_csv.reader object at 0x000001BA1F15DEB8>\n",
      "['Subject', 'Grade', 'Estimated grade', 'Estimated grade (by bot)']\n",
      "['engl', '13', '18', 'x']\n",
      "['engl', '16', '17', 'x']\n",
      "['fr', '18', '18', 'x']\n",
      "['maths', '18.5', '19', 'x']\n",
      "['maths', '19.5', '19', 'x']\n",
      "['phys', '15', '17', 'x']\n",
      "['hist', 'x', '11', 'x']\n",
      "['NSI', '19', '17', 'x']\n",
      "['maths', '16', '17', 'x']\n",
      "['ESsvt', '14', '16', 'x']\n",
      "['fr', 'x', '17', 'x']\n",
      "['x', 'x', 'x', 'x', 'x', 'x', 'x', 'x', 'x', 'x', 'x']\n",
      "['Subject', 'engl', 'engl', 'fr', 'maths', 'maths', 'phys', 'hist', 'NSI', 'maths', 'ESsvt', 'fr']\n"
     ]
    }
   ],
   "source": [
    "estimated_grades_column = []\n",
    "subjects_list = []\n",
    "\n",
    "with open(\"grades.csv\", newline=\"\") as csvfile:\n",
    "    reader = csv.reader(csvfile)\n",
    "    print(reader)\n",
    "    for row in reader:\n",
    "        print(row)\n",
    "        estimated_grades_column.append(row[3])\n",
    "        subjects_list.append(row[0])\n",
    "        \n",
    "    del estimated_grades_column[0] #delete the label of the column\n",
    "\n",
    "    print(estimated_grades_column)\n",
    "    print(subjects_list)"
   ]
  }
 ],
 "metadata": {
  "interpreter": {
   "hash": "c80b580279a7bbfadcadc382c4c2a2d93e5b93d1655dd85e615331a6eae7b4ac"
  },
  "kernelspec": {
   "display_name": "Python 3.7.9 64-bit (windows store)",
   "name": "python3"
  },
  "language_info": {
   "codemirror_mode": {
    "name": "ipython",
    "version": 3
   },
   "file_extension": ".py",
   "mimetype": "text/x-python",
   "name": "python",
   "nbconvert_exporter": "python",
   "pygments_lexer": "ipython3",
   "version": "3.7.9"
  },
  "orig_nbformat": 4
 },
 "nbformat": 4,
 "nbformat_minor": 2
}
