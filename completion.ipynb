{
 "cells": [
  {
   "cell_type": "markdown",
   "metadata": {},
   "source": [
    "# Importing dependencies"
   ]
  },
  {
   "cell_type": "code",
   "execution_count": 82,
   "metadata": {},
   "outputs": [],
   "source": [
    "import pandas\n",
    "from statistics import mean"
   ]
  },
  {
   "cell_type": "markdown",
   "metadata": {},
   "source": [
    "# Read the csv in \"reader\""
   ]
  },
  {
   "cell_type": "code",
   "execution_count": 83,
   "metadata": {},
   "outputs": [
    {
     "name": "stdout",
     "output_type": "stream",
     "text": [
      "   Subject Grade  Estimated_grade Estimated_grade_by_bot\n",
      "0     engl    13               18                      x\n",
      "1     engl    16               17                      x\n",
      "2       fr    18               18                      x\n",
      "3    maths  18.5               19                      x\n",
      "4    maths  19.5               19                      x\n",
      "5     phys    15               17                      x\n",
      "6     hist     x               11                      x\n",
      "7      NSI    19               17                      x\n",
      "8    maths    16               17                      x\n",
      "9    ESbio    14               16                      x\n",
      "10      fr     x               17                      x\n",
      "11     spa     x               13                      x\n",
      "12      fr     x               17                      x\n"
     ]
    }
   ],
   "source": [
    "reader = pandas.read_csv(r\"grades.csv\")\n",
    "print(reader)"
   ]
  },
  {
   "cell_type": "markdown",
   "metadata": {},
   "source": [
    "# Function getting the subject according to the index"
   ]
  },
  {
   "cell_type": "code",
   "execution_count": 84,
   "metadata": {},
   "outputs": [],
   "source": [
    "def subject_with_index(index):\n",
    "    subject = reader.Subject[index]\n",
    "    return subject"
   ]
  },
  {
   "cell_type": "markdown",
   "metadata": {},
   "source": [
    "# Function getting grades for subject"
   ]
  },
  {
   "cell_type": "code",
   "execution_count": 85,
   "metadata": {},
   "outputs": [],
   "source": [
    "def get_grades_for_subject(subject):\n",
    "    grades_index = []\n",
    "\n",
    "    index = 0\n",
    "    for subject_label in reader.Subject :\n",
    "        if subject_label == subject :\n",
    "            grades_index.append(index)\n",
    "\n",
    "        index += 1\n",
    "\n",
    "    grades = reader.Grade\n",
    "    list_of_grades = []\n",
    "    \n",
    "    for index in grades_index :\n",
    "        list_of_grades.append(grades[index])\n",
    "\n",
    "    list_of_grades_integer = []\n",
    "\n",
    "    for grade in list_of_grades :\n",
    "        try :\n",
    "            list_of_grades_integer.append(float(grade))\n",
    "\n",
    "        except :\n",
    "            pass\n",
    "\n",
    "    return list_of_grades_integer"
   ]
  },
  {
   "cell_type": "markdown",
   "metadata": {},
   "source": [
    "# For each estimated grades by bot, get non-estimated grades, get the subject, and get the mean of the subject"
   ]
  },
  {
   "cell_type": "code",
   "execution_count": 86,
   "metadata": {},
   "outputs": [
    {
     "name": "stdout",
     "output_type": "stream",
     "text": [
      "subject to complete : engl\n",
      "[13.0, 16.0]\n",
      "14.5\n",
      "subject to complete : engl\n",
      "[13.0, 16.0]\n",
      "14.5\n",
      "subject to complete : fr\n",
      "[18.0]\n",
      "18.0\n",
      "subject to complete : maths\n",
      "[18.5, 19.5, 16.0]\n",
      "18.0\n",
      "subject to complete : maths\n",
      "[18.5, 19.5, 16.0]\n",
      "18.0\n",
      "subject to complete : phys\n",
      "[15.0]\n",
      "15.0\n",
      "subject to complete : hist\n",
      "[]\n",
      "There is no grades\n",
      "\n",
      "subject to complete : NSI\n",
      "[19.0]\n",
      "19.0\n",
      "subject to complete : maths\n",
      "[18.5, 19.5, 16.0]\n",
      "18.0\n",
      "subject to complete : ESbio\n",
      "[14.0]\n",
      "14.0\n",
      "subject to complete : fr\n",
      "[18.0]\n",
      "18.0\n",
      "subject to complete : spa\n",
      "[]\n",
      "There is no grades\n",
      "\n",
      "subject to complete : fr\n",
      "[18.0]\n",
      "18.0\n"
     ]
    }
   ],
   "source": [
    "index = 0\n",
    "for grade in reader.Estimated_grade_by_bot :\n",
    "    if grade == \"x\":\n",
    "        subject = subject_with_index(index)\n",
    "        print(f\"subject to complete : {subject}\")\n",
    "\n",
    "        list_of_grades = get_grades_for_subject(subject)\n",
    "        print(list_of_grades)\n",
    "\n",
    "        average = \"\"\n",
    "        \n",
    "        try :\n",
    "            average = mean(list_of_grades)\n",
    "\n",
    "        except :\n",
    "            print(\"There is no grades\")\n",
    "        print(average)\n",
    "\n",
    "    index += 1\n"
   ]
  }
 ],
 "metadata": {
  "interpreter": {
   "hash": "c80b580279a7bbfadcadc382c4c2a2d93e5b93d1655dd85e615331a6eae7b4ac"
  },
  "kernelspec": {
   "display_name": "Python 3.7.9 64-bit (windows store)",
   "name": "python3"
  },
  "language_info": {
   "codemirror_mode": {
    "name": "ipython",
    "version": 3
   },
   "file_extension": ".py",
   "mimetype": "text/x-python",
   "name": "python",
   "nbconvert_exporter": "python",
   "pygments_lexer": "ipython3",
   "version": "3.7.9"
  },
  "orig_nbformat": 4
 },
 "nbformat": 4,
 "nbformat_minor": 2
}
