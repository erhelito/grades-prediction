{
 "cells": [
  {
   "cell_type": "markdown",
   "metadata": {},
   "source": [
    "# Importing dependencies"
   ]
  },
  {
   "cell_type": "code",
   "execution_count": 56,
   "metadata": {},
   "outputs": [],
   "source": [
    "import pandas"
   ]
  },
  {
   "cell_type": "markdown",
   "metadata": {},
   "source": [
    "# Read the csv in \"reader\""
   ]
  },
  {
   "cell_type": "code",
   "execution_count": 57,
   "metadata": {},
   "outputs": [
    {
     "name": "stdout",
     "output_type": "stream",
     "text": [
      "   Subject Grade  Estimated_grade Estimated_grade_by_bot\n",
      "0     engl    13               18                      x\n",
      "1     engl    16               17                      2\n",
      "2       fr    18               18                      2\n",
      "3    maths  18.5               19                      3\n",
      "4    maths  19.5               19                      4\n",
      "5     phys    15               17                      5\n",
      "6     hist     x               11                      6\n",
      "7      NSI    19               17                      x\n",
      "8    maths    16               17                      8\n",
      "9    ESbio    14               16                      9\n",
      "10      fr     x               17                     10\n",
      "11     spa     x               13                      3\n"
     ]
    }
   ],
   "source": [
    "reader = pandas.read_csv(r\"grades.csv\")\n",
    "print(reader)"
   ]
  },
  {
   "cell_type": "markdown",
   "metadata": {},
   "source": [
    "# Function getting the subject according to the index"
   ]
  },
  {
   "cell_type": "code",
   "execution_count": 58,
   "metadata": {},
   "outputs": [],
   "source": [
    "def subject_with_index(index):\n",
    "    subject = reader.Subject[index]\n",
    "    return subject"
   ]
  },
  {
   "cell_type": "markdown",
   "metadata": {},
   "source": [
    "# Function getting grades for subject"
   ]
  },
  {
   "cell_type": "code",
   "execution_count": 59,
   "metadata": {},
   "outputs": [],
   "source": [
    "def get_grades_for_subject(subject):\n",
    "    grades_index = []\n",
    "\n",
    "    index = 0\n",
    "    for subject_label in reader.Subject :\n",
    "        if subject_label == subject :\n",
    "            grades_index.append(index)\n",
    "\n",
    "        index += 1\n",
    "\n",
    "    grades = reader.Grade\n",
    "    list_of_grades = []\n",
    "    \n",
    "    for index in grades_index :\n",
    "        list_of_grades.append(grades[index])\n",
    "\n",
    "    \n",
    "\n",
    "    return list_of_grades"
   ]
  },
  {
   "cell_type": "markdown",
   "metadata": {},
   "source": [
    "# For each estimated grades by bot, get non-estimated grades, and get the subject"
   ]
  },
  {
   "cell_type": "code",
   "execution_count": 60,
   "metadata": {},
   "outputs": [
    {
     "name": "stdout",
     "output_type": "stream",
     "text": [
      "subject to complete : engl\n",
      "13\n",
      "16\n",
      "subject to complete : NSI\n",
      "19\n"
     ]
    }
   ],
   "source": [
    "index = 0\n",
    "for grade in reader.Estimated_grade_by_bot :\n",
    "    if grade == \"x\":\n",
    "        subject = subject_with_index(index)\n",
    "        print(f\"subject to complete : {subject}\")\n",
    "        get_average_with_subject(subject)\n",
    "\n",
    "    index += 1\n"
   ]
  }
 ],
 "metadata": {
  "interpreter": {
   "hash": "c80b580279a7bbfadcadc382c4c2a2d93e5b93d1655dd85e615331a6eae7b4ac"
  },
  "kernelspec": {
   "display_name": "Python 3.7.9 64-bit (windows store)",
   "name": "python3"
  },
  "language_info": {
   "codemirror_mode": {
    "name": "ipython",
    "version": 3
   },
   "file_extension": ".py",
   "mimetype": "text/x-python",
   "name": "python",
   "nbconvert_exporter": "python",
   "pygments_lexer": "ipython3",
   "version": "3.7.9"
  },
  "orig_nbformat": 4
 },
 "nbformat": 4,
 "nbformat_minor": 2
}
